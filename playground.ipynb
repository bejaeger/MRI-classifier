{
 "cells": [
  {
   "cell_type": "code",
   "execution_count": 1,
   "metadata": {},
   "outputs": [
    {
     "name": "stdout",
     "output_type": "stream",
     "text": [
      "loaded Dataset with 295 images, 85 of which are high grade. Average age: 68\n"
     ]
    }
   ],
   "source": [
    "import numpy as np\n",
    "from dataset import CustomDataset\n",
    "\n",
    "DATASET_FOLDER = \"./data/train\"\n",
    "ds = CustomDataset(DATASET_FOLDER)"
   ]
  },
  {
   "cell_type": "code",
   "execution_count": 9,
   "metadata": {},
   "outputs": [
    {
     "data": {
      "image/png": "[encoded data removed]",
      "text/plain": [
       "<Figure size 640x480 with 1 Axes>"
      ]
     },
     "metadata": {},
     "output_type": "display_data"
    }
   ],
   "source": [
    "dataset = ds\n",
    "psas = [dataset.metadata[i].prostate_specific_antigen_level for i in range(len(dataset))]\n",
    "labels = dataset.labels\n",
    "\n",
    "import matplotlib.pyplot as plt\n",
    "high = [psas[i] for i in range(len(labels)) if ds.labels[i] == 1]\n",
    "low = [psas[i] for i in range(len(labels)) if ds.labels[i] == 0]\n",
    "# make box plot\n",
    "plt.boxplot([high, low], labels=[\"High\", \"Low\"], showmeans=True)\n",
    "plt.xlabel(\"PSA\")\n",
    "plt.ylabel(\"Label\")\n",
    "plt.show()"
   ]
  },
  {
   "cell_type": "code",
   "execution_count": 3,
   "metadata": {},
   "outputs": [],
   "source": [
    "# Get the maximum z dimension for images. Need to pad them to this size\n",
    "\n",
    "shapes = []\n",
    "for image in ds.images:\n",
    "    shapes.append(image.shape)\n",
    "shapes = np.stack(shapes)\n",
    "padded_shape = np.max(shapes, axis=0)"
   ]
  },
  {
   "cell_type": "code",
   "execution_count": null,
   "metadata": {},
   "outputs": [],
   "source": [
    "# Check if data is already normalized, which seems to be the case\n",
    "\n",
    "means, stds, mins, maxs = [], [], [], []\n",
    "for data in ds.image_data:\n",
    "    means.append(np.mean(data))\n",
    "    stds.append(np.std(data))\n",
    "    mins.append(np.min(data))\n",
    "    maxs.append(np.max(data))\n",
    "\n",
    "means = np.stack(means)\n",
    "stds = np.stack(stds)\n",
    "mins = np.stack(mins)\n",
    "maxs = np.stack(maxs)\n",
    "\n",
    "import matplotlib.pyplot as plt\n",
    "plt.figure(figsize=(20, 10))\n",
    "plt.subplot(2, 2, 1)\n",
    "plt.plot(means)\n",
    "plt.title(\"Mean\")\n",
    "plt.subplot(2, 2, 2)\n",
    "plt.plot(stds)\n",
    "plt.title(\"Std\")\n",
    "plt.subplot(2, 2, 3)\n",
    "plt.plot(mins)\n",
    "plt.title(\"Min\")\n",
    "plt.subplot(2, 2, 4)\n",
    "plt.plot(maxs)\n",
    "plt.title(\"Max\")\n",
    "plt.show()"
   ]
  }
 ],
 "metadata": {
  "kernelspec": {
   "display_name": "Python 3",
   "language": "python",
   "name": "python3"
  },
  "language_info": {
   "codemirror_mode": {
    "name": "ipython",
    "version": 3
   },
   "file_extension": ".py",
   "mimetype": "text/x-python",
   "name": "python",
   "nbconvert_exporter": "python",
   "pygments_lexer": "ipython3",
   "version": "3.9.17"
  },
  "orig_nbformat": 4
 },
 "nbformat": 4,
 "nbformat_minor": 2
}
