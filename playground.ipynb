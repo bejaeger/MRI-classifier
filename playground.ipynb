{
 "cells": [
  {
   "cell_type": "code",
   "execution_count": 2,
   "metadata": {},
   "outputs": [
    {
     "name": "stdout",
     "output_type": "stream",
     "text": [
      "loaded Dataset with 295 images, 85 of which are high grade. Average age: 68\n"
     ]
    }
   ],
   "source": [
    "import numpy as np\n",
    "from dataset import CustomDataset\n",
    "\n",
    "DATASET_FOLDER = \"./data/train\"\n",
    "ds = CustomDataset(DATASET_FOLDER)"
   ]
  },
  {
   "cell_type": "code",
   "execution_count": 3,
   "metadata": {},
   "outputs": [],
   "source": [
    "# Get the maximum z dimension for images. Need to pad them to this size\n",
    "\n",
    "shapes = []\n",
    "for image in ds.images:\n",
    "    shapes.append(image.shape)\n",
    "shapes = np.stack(shapes)\n",
    "padded_shape = np.max(shapes, axis=0)"
   ]
  },
  {
   "cell_type": "code",
   "execution_count": null,
   "metadata": {},
   "outputs": [],
   "source": [
    "# Check if data is already normalized, which seems to be the case\n",
    "\n",
    "means, stds, mins, maxs = [], [], [], []\n",
    "for data in ds.image_data:\n",
    "    means.append(np.mean(data))\n",
    "    stds.append(np.std(data))\n",
    "    mins.append(np.min(data))\n",
    "    maxs.append(np.max(data))\n",
    "\n",
    "means = np.stack(means)\n",
    "stds = np.stack(stds)\n",
    "mins = np.stack(mins)\n",
    "maxs = np.stack(maxs)\n",
    "\n",
    "import matplotlib.pyplot as plt\n",
    "plt.figure(figsize=(20, 10))\n",
    "plt.subplot(2, 2, 1)\n",
    "plt.plot(means)\n",
    "plt.title(\"Mean\")\n",
    "plt.subplot(2, 2, 2)\n",
    "plt.plot(stds)\n",
    "plt.title(\"Std\")\n",
    "plt.subplot(2, 2, 3)\n",
    "plt.plot(mins)\n",
    "plt.title(\"Min\")\n",
    "plt.subplot(2, 2, 4)\n",
    "plt.plot(maxs)\n",
    "plt.title(\"Max\")\n",
    "plt.show()"
   ]
  }
 ],
 "metadata": {
  "kernelspec": {
   "display_name": "Python 3",
   "language": "python",
   "name": "python3"
  },
  "language_info": {
   "codemirror_mode": {
    "name": "ipython",
    "version": 3
   },
   "file_extension": ".py",
   "mimetype": "text/x-python",
   "name": "python",
   "nbconvert_exporter": "python",
   "pygments_lexer": "ipython3",
   "version": "3.9.17"
  },
  "orig_nbformat": 4
 },
 "nbformat": 4,
 "nbformat_minor": 2
}
